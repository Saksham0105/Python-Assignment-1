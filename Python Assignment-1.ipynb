{
 "cells": [
  {
   "cell_type": "markdown",
   "id": "737ca274-8d5e-483e-b4d3-87c46e03375b",
   "metadata": {},
   "source": [
    "Q1. Which keyword is used to create a function? Create a function to return a list of odd numbers in the range of 1 to 25.\n",
    "\n"
   ]
  },
  {
   "cell_type": "markdown",
   "id": "86c963b5-a27c-46d2-b4a9-ae305be5cb14",
   "metadata": {},
   "source": [
    "Ans"
   ]
  },
  {
   "cell_type": "code",
   "execution_count": 16,
   "id": "51f2f760-37cb-4a5a-9082-def90dcfd456",
   "metadata": {},
   "outputs": [],
   "source": [
    "def generate_odd_numbers():\n",
    "    odd_numbers = []\n",
    "    for num in range(1,25) :\n",
    "        if num % 2 !=0:\n",
    "            odd_numbers.append(num)\n",
    "    return odd_numbers"
   ]
  },
  {
   "cell_type": "code",
   "execution_count": 17,
   "id": "c58605af-d24f-440a-8ef1-ff5843a6a96f",
   "metadata": {},
   "outputs": [
    {
     "data": {
      "text/plain": [
       "[1, 3, 5, 7, 9, 11, 13, 15, 17, 19, 21, 23]"
      ]
     },
     "execution_count": 17,
     "metadata": {},
     "output_type": "execute_result"
    }
   ],
   "source": [
    "generate_odd_numbers()"
   ]
  },
  {
   "cell_type": "markdown",
   "id": "69b39859-6a2a-43ae-a959-ed284829091d",
   "metadata": {},
   "source": [
    "Q2. Why *args and **kwargs is used in some functions? Create a function each for *args and **kwargs\n",
    "to demonstrate their use."
   ]
  },
  {
   "cell_type": "markdown",
   "id": "cbf1f9f2-eb8f-4afb-b1f6-58069e66dcfc",
   "metadata": {},
   "source": [
    "Ans"
   ]
  },
  {
   "cell_type": "markdown",
   "id": "d5421726-3f25-4d72-b9ea-fe3637f2b83d",
   "metadata": {},
   "source": [
    "* Args"
   ]
  },
  {
   "cell_type": "markdown",
   "id": "dbad740b-779f-46e2-89a0-a80be5498a6c",
   "metadata": {},
   "source": [
    "*args allows you to pass a variable number of non-keyword arguments to a function. It collects these arguments into a tuple. This is useful when you're unsure about the number of arguments the function will receive."
   ]
  },
  {
   "cell_type": "code",
   "execution_count": 12,
   "id": "d4f80cb5-bb74-41aa-aa14-04022ef26e5c",
   "metadata": {},
   "outputs": [],
   "source": [
    "def function_1(*args):\n",
    "    if (len(args) == 3):\n",
    "         print(\"This is a student\",args[0], \"and the age of student is\" ,args[1], \" and the rollno. of student is\",args[2])\n",
    "    else :\n",
    "        print(\"This is a student\",args[0], \"and the age of student is\" ,args[1])"
   ]
  },
  {
   "cell_type": "code",
   "execution_count": 13,
   "id": "ae2bb7ec-f3e6-4b15-9cb6-a534e810ad7c",
   "metadata": {},
   "outputs": [
    {
     "name": "stdout",
     "output_type": "stream",
     "text": [
      "This is a student Saksham and the age of student is 21  and the rollno. of student is 12000369\n"
     ]
    }
   ],
   "source": [
    "function_1(\"Saksham\",21,12000369)"
   ]
  },
  {
   "cell_type": "code",
   "execution_count": 14,
   "id": "a372075a-845a-4353-b438-02490f0e3454",
   "metadata": {},
   "outputs": [
    {
     "name": "stdout",
     "output_type": "stream",
     "text": [
      "This is a student Saksham and the age of student is 21\n"
     ]
    }
   ],
   "source": [
    "function_1(\"Saksham\",21)"
   ]
  },
  {
   "cell_type": "markdown",
   "id": "ae77924a-6920-431e-9b95-314d5071eed9",
   "metadata": {},
   "source": [
    "* **kwargs"
   ]
  },
  {
   "cell_type": "markdown",
   "id": "829cb8eb-efc4-4e02-ad09-3ef4e119099c",
   "metadata": {},
   "source": [
    "**kwargs allows you to pass a variable number of keyword arguments to a function. It collects these arguments into a dictionary. This is useful when you want to provide optional named parameters to a function."
   ]
  },
  {
   "cell_type": "code",
   "execution_count": 7,
   "id": "1c745dcf-3eff-44ac-8314-6b4328e0e77b",
   "metadata": {},
   "outputs": [],
   "source": [
    "marklist = {'Saksham': 100,'Dimpu':95,'Pihu': 80, 'siddhi':88 , 'Tanuu' : 100}"
   ]
  },
  {
   "cell_type": "code",
   "execution_count": 8,
   "id": "9562705b-c5c5-4d7b-9eac-a7ec68f552fe",
   "metadata": {},
   "outputs": [],
   "source": [
    "def printmarks(**kwargs):\n",
    "    print(type(kwargs))\n",
    "    for key,value in kwargs.items() :\n",
    "        print(key,value)"
   ]
  },
  {
   "cell_type": "code",
   "execution_count": 10,
   "id": "4316dfde-73bc-49fb-bf01-4ddcb2ef8715",
   "metadata": {},
   "outputs": [
    {
     "name": "stdout",
     "output_type": "stream",
     "text": [
      "<class 'dict'>\n",
      "Saksham 100\n",
      "Dimpu 95\n",
      "Pihu 80\n",
      "siddhi 88\n",
      "Tanuu 100\n"
     ]
    }
   ],
   "source": [
    "printmarks(**marklist)"
   ]
  },
  {
   "cell_type": "markdown",
   "id": "b2e1f6fa-8531-428c-bebe-40d26e88ac03",
   "metadata": {},
   "source": [
    "Q3.  What is an iterator in python? Name the method used to initialise the iterator object and the method\n",
    "used for iteration. Use these methods to print the first five elements of the given list [2, 4, 6, 8, 10, 12, 14,\n",
    "16, 18, 20]."
   ]
  },
  {
   "cell_type": "markdown",
   "id": "a424b713-76b0-4250-8dd4-2d383e715536",
   "metadata": {},
   "source": [
    "Ans"
   ]
  },
  {
   "cell_type": "markdown",
   "id": "68b93103-d72d-4063-a91a-8ea0d52b0465",
   "metadata": {},
   "source": [
    "An iterator is an object that allows you to traverse through a sequence of elements, such as a list, tuple, or any other iterable. It provides a way to access elements one by one without needing to know the underlying implementation details of the iterable."
   ]
  },
  {
   "cell_type": "markdown",
   "id": "e4b343b4-dfa7-4753-9375-50dbba1962cd",
   "metadata": {},
   "source": [
    "The two methods associated with iterators are:"
   ]
  },
  {
   "cell_type": "markdown",
   "id": "64d53b31-bbd6-43b4-96db-5e4d97963920",
   "metadata": {},
   "source": [
    "* iter()"
   ]
  },
  {
   "cell_type": "markdown",
   "id": "d6bfe18e-6222-492d-ab80-bbbe1b164ad9",
   "metadata": {},
   "source": [
    "This method is used to initialize an iterator object from an iterable."
   ]
  },
  {
   "cell_type": "markdown",
   "id": "1409dd87-2a0c-4eb2-8895-9d25cb73f77e",
   "metadata": {},
   "source": [
    "* next()"
   ]
  },
  {
   "cell_type": "markdown",
   "id": "330056f4-ead6-4cdc-8b47-1e947177cd44",
   "metadata": {},
   "source": [
    "This method is used to retrieve the next element from the iterator."
   ]
  },
  {
   "cell_type": "code",
   "execution_count": 11,
   "id": "f22d3885-c8f2-4758-9874-dd03acfaf528",
   "metadata": {},
   "outputs": [],
   "source": [
    "given_list = [2, 4, 6, 8, 10, 12, 14,16, 18, 20]"
   ]
  },
  {
   "cell_type": "code",
   "execution_count": 15,
   "id": "f073bc26-6358-4324-85b6-7b56be5d7a7d",
   "metadata": {},
   "outputs": [],
   "source": [
    "my_iterator = iter(given_list)"
   ]
  },
  {
   "cell_type": "code",
   "execution_count": 16,
   "id": "ec73f7e3-63f8-4cb5-bc47-2a61bbc66ef0",
   "metadata": {},
   "outputs": [
    {
     "name": "stdout",
     "output_type": "stream",
     "text": [
      "2\n",
      "4\n",
      "6\n",
      "8\n",
      "10\n"
     ]
    }
   ],
   "source": [
    "for _ in range(5):\n",
    "    element = next(my_iterator)\n",
    "    print(element)"
   ]
  },
  {
   "cell_type": "markdown",
   "id": "512d3ab8-58e9-4dcc-b45f-83cab199926b",
   "metadata": {},
   "source": [
    "Q4.  What is a generator function in python? Why yield keyword is used? Give an example of a generator\n",
    "function."
   ]
  },
  {
   "cell_type": "markdown",
   "id": "a54af3ce-2393-4bcb-af7a-73443eb2431c",
   "metadata": {},
   "source": [
    "Ans"
   ]
  },
  {
   "cell_type": "markdown",
   "id": "d4167c50-cb8e-49d9-b27a-58ad4687faf5",
   "metadata": {},
   "source": [
    "* Generator Function : -"
   ]
  },
  {
   "cell_type": "markdown",
   "id": "699ac38e-b18f-411e-a854-e7383ef38e82",
   "metadata": {},
   "source": [
    "A generator function in Python is a special type of function that generates a sequence of values, one at a time, using the yield keyword. Unlike regular functions that use the return keyword to provide a single result and then terminate, generator functions maintain their state between successive calls and can \"pause\" their execution to yield a value before continuing."
   ]
  },
  {
   "cell_type": "markdown",
   "id": "04df27d0-cb93-40ce-8e72-da5a5bda3100",
   "metadata": {},
   "source": [
    "* Yield Keyword : - "
   ]
  },
  {
   "cell_type": "markdown",
   "id": "921aa7d3-c52c-40a5-bdd6-4a7911ce7c9a",
   "metadata": {},
   "source": [
    "The yield keyword is used in a generator function to yield a value to the caller, while also preserving the function's state. When a generator function is called, it doesn't execute the entire function body immediately. Instead, it returns a generator object, which can be used to control the execution of the generator function step by step."
   ]
  },
  {
   "cell_type": "markdown",
   "id": "88974f96-c34a-477f-ad21-4fe1eab393af",
   "metadata": {},
   "source": [
    "Example Of Generator Function : -"
   ]
  },
  {
   "cell_type": "code",
   "execution_count": 33,
   "id": "87e2bac0-7335-4e51-a91c-7d3b03f96ec9",
   "metadata": {},
   "outputs": [
    {
     "name": "stdout",
     "output_type": "stream",
     "text": [
      "0\n",
      "1\n",
      "4\n",
      "9\n",
      "16\n",
      "25\n",
      "36\n",
      "49\n",
      "64\n",
      "81\n"
     ]
    }
   ],
   "source": [
    "#Create a square function using generator function\n",
    "def gen_function(n) :\n",
    "    for i in range(n):\n",
    "        yield i**2\n",
    "        \n",
    "        \n",
    "# Using the generator function to iterate over squares\n",
    "sq_function = gen_function(10)\n",
    "\n",
    "for square in sq_function :\n",
    "    print(square)"
   ]
  },
  {
   "cell_type": "markdown",
   "id": "d72e02fa-90ed-428f-ba51-96e392ab4209",
   "metadata": {},
   "source": [
    "Q5. Create a generator function for prime numbers less than 1000. Use the next() method to print the\n",
    "first 20 prime numbers."
   ]
  },
  {
   "cell_type": "markdown",
   "id": "708205dc-251f-4a41-bf53-e5c088113b50",
   "metadata": {},
   "source": [
    "Ans"
   ]
  },
  {
   "cell_type": "code",
   "execution_count": 1,
   "id": "4beffaa7-7c5b-4097-8b13-a9314aa9d22c",
   "metadata": {},
   "outputs": [
    {
     "name": "stdout",
     "output_type": "stream",
     "text": [
      "2\n",
      "3\n",
      "5\n",
      "7\n",
      "11\n",
      "13\n",
      "17\n",
      "19\n",
      "23\n",
      "29\n",
      "31\n",
      "37\n",
      "41\n",
      "43\n",
      "47\n",
      "53\n",
      "59\n",
      "61\n",
      "67\n",
      "71\n"
     ]
    }
   ],
   "source": [
    "def is_prime(n):\n",
    "    if n <= 1:\n",
    "        return False\n",
    "    if n <= 3:\n",
    "        return True\n",
    "    if n % 2 == 0 or n % 3 == 0:\n",
    "        return False\n",
    "    i = 5\n",
    "    while i * i <= n:\n",
    "        if n % i == 0 or n % (i + 2) == 0:\n",
    "            return False\n",
    "        i += 6\n",
    "    return True\n",
    "\n",
    "def prime_generator(limit=1000):\n",
    "    num = 2\n",
    "    while num < limit:\n",
    "        if is_prime(num):\n",
    "            yield num\n",
    "        num += 1\n",
    "\n",
    "prime_gen = prime_generator()\n",
    "\n",
    "for _ in range(20):\n",
    "    print(next(prime_gen))\n"
   ]
  },
  {
   "cell_type": "markdown",
   "id": "8ffe0318-a3f5-4835-962c-29bfdd786576",
   "metadata": {},
   "source": [
    "Q6. Write a python program to print the first 10 Fibonacci numbers using a while loop."
   ]
  },
  {
   "cell_type": "markdown",
   "id": "82def07e-7919-48ad-8487-648ab878eef2",
   "metadata": {},
   "source": [
    "Ans"
   ]
  },
  {
   "cell_type": "code",
   "execution_count": 10,
   "id": "efb19fb7-57e3-4852-b9f0-5162e34dbc53",
   "metadata": {},
   "outputs": [],
   "source": [
    "def fib_num():\n",
    "    num1 , num2 = 0,1\n",
    "    count = 0\n",
    "    while count < 10 :\n",
    "        print(num1,end=\" \")\n",
    "        next_num = num1+num2\n",
    "        num1 = num2\n",
    "        num2 = next_num\n",
    "        count += 1"
   ]
  },
  {
   "cell_type": "code",
   "execution_count": 9,
   "id": "24a6d4f7-48b2-443b-a8e3-685095f53813",
   "metadata": {},
   "outputs": [
    {
     "name": "stdout",
     "output_type": "stream",
     "text": [
      "0 1 1 2 3 5 8 13 21 34 "
     ]
    }
   ],
   "source": [
    "fib_num()"
   ]
  },
  {
   "cell_type": "markdown",
   "id": "b0c2ff89-2662-4585-aee3-1482717ccb87",
   "metadata": {},
   "source": [
    "Q7. Write a List Comprehension to iterate through the given string: ‘pwskills’.  Expected output: ['p', 'w', 's', 'k', 'i', 'l', 'l', 's'] \n"
   ]
  },
  {
   "cell_type": "markdown",
   "id": "0d8af8c8-9cf9-4ac7-9aad-c4cfb0bdab90",
   "metadata": {},
   "source": [
    "Ans"
   ]
  },
  {
   "cell_type": "code",
   "execution_count": 4,
   "id": "0c11bdd0-cabf-438d-b736-f39e89ecdc6c",
   "metadata": {},
   "outputs": [],
   "source": [
    "l1 = [given_string for given_string in 'pwskills']"
   ]
  },
  {
   "cell_type": "code",
   "execution_count": 5,
   "id": "8265b0d3-bdd1-444c-a785-4f987fc5efd1",
   "metadata": {},
   "outputs": [
    {
     "name": "stdout",
     "output_type": "stream",
     "text": [
      "['p', 'w', 's', 'k', 'i', 'l', 'l', 's']\n"
     ]
    }
   ],
   "source": [
    "print(l1)"
   ]
  },
  {
   "cell_type": "markdown",
   "id": "d7c538d7-50aa-4d45-b9be-ef19e0c90ab8",
   "metadata": {},
   "source": [
    "Q8. Write a python program to check whether a given number is Palindrome or not using a while loop."
   ]
  },
  {
   "cell_type": "markdown",
   "id": "441882c9-7a86-46cb-b774-a7bcda764a2f",
   "metadata": {},
   "source": [
    "Ans"
   ]
  },
  {
   "cell_type": "code",
   "execution_count": 6,
   "id": "524523fb-12ed-4de6-919d-186f85dbba55",
   "metadata": {},
   "outputs": [],
   "source": [
    "def palindrome(n) :\n",
    "    r = 0\n",
    "    s = 0\n",
    "    t = n\n",
    "    while n>0:\n",
    "        r = n%10\n",
    "        s = s*10+r\n",
    "        n = n // 10\n",
    "    if s == t:\n",
    "        return(\"is palindrome\")\n",
    "    else:\n",
    "        return(\"is not palindrome\")\n",
    "    n = int(input(\"Enter a number\"))\n",
    "    print(palindrome(n))"
   ]
  },
  {
   "cell_type": "code",
   "execution_count": 7,
   "id": "667d8233-20b9-4c0b-9167-6db98741fa20",
   "metadata": {},
   "outputs": [
    {
     "data": {
      "text/plain": [
       "'is not palindrome'"
      ]
     },
     "execution_count": 7,
     "metadata": {},
     "output_type": "execute_result"
    }
   ],
   "source": [
    "palindrome(21)"
   ]
  },
  {
   "cell_type": "code",
   "execution_count": 8,
   "id": "8e2739f6-ba5c-4960-891f-bf06661aacf5",
   "metadata": {},
   "outputs": [
    {
     "data": {
      "text/plain": [
       "'is palindrome'"
      ]
     },
     "execution_count": 8,
     "metadata": {},
     "output_type": "execute_result"
    }
   ],
   "source": [
    "palindrome(22)"
   ]
  },
  {
   "cell_type": "markdown",
   "id": "bacc06f7-aa0b-464a-b026-bd1bcf099d51",
   "metadata": {},
   "source": [
    "Q9. Write a code to print odd numbers from 1 to 100 using list comprehension.\n",
    "\n",
    "Note: Use a list comprehension to create a list from 1 to 100 and use another List comprehension to filter\n",
    "out odd numbers"
   ]
  },
  {
   "cell_type": "markdown",
   "id": "31b95166-98c9-497f-88d8-42690ef7ac2c",
   "metadata": {},
   "source": [
    "Ans"
   ]
  },
  {
   "cell_type": "code",
   "execution_count": 9,
   "id": "3403cb03-b5d8-423a-b293-583cacf7317f",
   "metadata": {},
   "outputs": [
    {
     "name": "stdout",
     "output_type": "stream",
     "text": [
      "[1, 3, 5, 7, 9, 11, 13, 15, 17, 19, 21, 23, 25, 27, 29, 31, 33, 35, 37, 39, 41, 43, 45, 47, 49, 51, 53, 55, 57, 59, 61, 63, 65, 67, 69, 71, 73, 75, 77, 79, 81, 83, 85, 87, 89, 91, 93, 95, 97, 99]\n"
     ]
    }
   ],
   "source": [
    "odd_no = [i for i in range (0,101) if i%2==1]\n",
    "print(odd_no)"
   ]
  },
  {
   "cell_type": "code",
   "execution_count": null,
   "id": "1b631191-f403-4fb0-8c1a-402b6adc4598",
   "metadata": {},
   "outputs": [],
   "source": []
  }
 ],
 "metadata": {
  "kernelspec": {
   "display_name": "Python 3 (ipykernel)",
   "language": "python",
   "name": "python3"
  },
  "language_info": {
   "codemirror_mode": {
    "name": "ipython",
    "version": 3
   },
   "file_extension": ".py",
   "mimetype": "text/x-python",
   "name": "python",
   "nbconvert_exporter": "python",
   "pygments_lexer": "ipython3",
   "version": "3.10.8"
  }
 },
 "nbformat": 4,
 "nbformat_minor": 5
}
